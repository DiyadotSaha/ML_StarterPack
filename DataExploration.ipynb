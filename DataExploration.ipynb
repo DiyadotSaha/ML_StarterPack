{
 "cells": [
  {
   "cell_type": "markdown",
   "id": "032b9d42",
   "metadata": {},
   "source": [
    "## Reading in the data from .csv file and doing basic checks\n"
   ]
  },
  {
   "cell_type": "code",
   "execution_count": null,
   "id": "c8fef316",
   "metadata": {},
   "outputs": [],
   "source": [
    "train = pd.read_csv('file_path')\n",
    "test = pd.read_csv('file_path')"
   ]
  },
  {
   "cell_type": "code",
   "execution_count": null,
   "id": "10d8ed5d",
   "metadata": {},
   "outputs": [],
   "source": [
    "# Basic Sanity checks \n",
    "\n",
    "# Dimension\n",
    "print(train.shape)\n",
    "print(test.shape)\n",
    "\n",
    "# Duplicates \n",
    "print(f\"Duplicates in Train Dataset is:{train.duplicated().sum()},({100*train.duplicated().sum()/len(train)})%\")\n",
    "print(f\"Duplicates in Test Dataset is:{test.duplicated().sum()},({100*test.duplicated().sum()/len(test)})%\")\n",
    "\n",
    "# Missing Values\n",
    "df = (train.isnull().sum()[train.isnull().sum()>0]).to_frame().rename(columns={0:\"Number of Missing values\"})\n",
    "df[\"% of Missing Values\"] = round((100*train.isnull().sum()[train.isnull().sum()>0]/len(train)),2)\n",
    "print(df)\n",
    "\n",
    "# Cardinality ()\n",
    "print(\"cardinality of categorical features in training datasets is:\")\n",
    "print(train.select_dtypes(include=\"object\").nunique())\n",
    "print(\"\\n\",\"-\"*70)\n",
    "print(\"\\nCardinality of categorical features in testing datsets is:\")\n",
    "print(test.select_dtypes(include=\"object\").nunique())"
   ]
  },
  {
   "cell_type": "markdown",
   "id": "d536cfdd",
   "metadata": {},
   "source": [
    "###"
   ]
  }
 ],
 "metadata": {
  "kernelspec": {
   "display_name": "Python 3 (ipykernel)",
   "language": "python",
   "name": "python3"
  },
  "language_info": {
   "codemirror_mode": {
    "name": "ipython",
    "version": 3
   },
   "file_extension": ".py",
   "mimetype": "text/x-python",
   "name": "python",
   "nbconvert_exporter": "python",
   "pygments_lexer": "ipython3",
   "version": "3.11.5"
  }
 },
 "nbformat": 4,
 "nbformat_minor": 5
}
